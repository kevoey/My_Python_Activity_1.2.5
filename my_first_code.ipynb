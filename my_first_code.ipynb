{
 "cells": [
  {
   "cell_type": "markdown",
   "id": "8dbd79fd",
   "metadata": {},
   "source": [
    "# 1.2.5 Writing Python Code - My_first_code"
   ]
  },
  {
   "cell_type": "code",
   "execution_count": 1,
   "id": "3fdc9f6a",
   "metadata": {},
   "outputs": [
    {
     "name": "stdout",
     "output_type": "stream",
     "text": [
      "My name is Kevin Wijaya Oey\n",
      "The current date is 5 June 2022\n"
     ]
    }
   ],
   "source": [
    "# this is my first line of code\n",
    "\n",
    "print(\"My name is Kevin Wijaya Oey\")\n",
    "print(\"The current date is 5 June 2022\")"
   ]
  },
  {
   "cell_type": "code",
   "execution_count": 2,
   "id": "0222fd2b",
   "metadata": {},
   "outputs": [
    {
     "name": "stdout",
     "output_type": "stream",
     "text": [
      "182900\n"
     ]
    }
   ],
   "source": [
    "# Write a program to analyse real estate data\n",
    "\n",
    "a = 45000\n",
    "b = 23400\n",
    "c = 67000\n",
    "d = 34600\n",
    "e = 12900\n",
    "\n",
    "#Total Sales for December (Lindstrom & Thomas)\n",
    "\n",
    "print (a+b+c+d+e)"
   ]
  },
  {
   "cell_type": "code",
   "execution_count": 3,
   "id": "0a7b1895",
   "metadata": {},
   "outputs": [
    {
     "name": "stdout",
     "output_type": "stream",
     "text": [
      "36580.0\n"
     ]
    }
   ],
   "source": [
    "# average sales pprice for December, where average = total sales / number of sales\n",
    "\n",
    "print((a+b+c+d+e)/5)"
   ]
  },
  {
   "cell_type": "code",
   "execution_count": 4,
   "id": "932d4362",
   "metadata": {},
   "outputs": [
    {
     "name": "stdout",
     "output_type": "stream",
     "text": [
      "60500\n"
     ]
    }
   ],
   "source": [
    "# Property price - property C, where sales = property price + commission\n",
    "# Property C's commision is 6,500\n",
    "\n",
    "print(c-6500)"
   ]
  }
 ],
 "metadata": {
  "kernelspec": {
   "display_name": "Python 3",
   "language": "python",
   "name": "python3"
  },
  "language_info": {
   "codemirror_mode": {
    "name": "ipython",
    "version": 3
   },
   "file_extension": ".py",
   "mimetype": "text/x-python",
   "name": "python",
   "nbconvert_exporter": "python",
   "pygments_lexer": "ipython3",
   "version": "3.8.8"
  }
 },
 "nbformat": 4,
 "nbformat_minor": 5
}
